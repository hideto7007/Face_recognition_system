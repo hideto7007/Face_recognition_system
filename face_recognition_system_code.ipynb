{
 "cells": [
  {
   "cell_type": "markdown",
   "metadata": {
    "colab_type": "text",
    "id": "UKsSvxKaNRR1"
   },
   "source": [
    "ランタイムをGPUモードに変更"
   ]
  },
  {
   "cell_type": "code",
   "execution_count": null,
   "metadata": {
    "colab": {},
    "colab_type": "code",
    "id": "FwELETqgM17S"
   },
   "outputs": [],
   "source": [
    "# !pip install face_recognition"
   ]
  },
  {
   "cell_type": "markdown",
   "metadata": {
    "colab_type": "text",
    "id": "GjPmYLdgjcrX"
   },
   "source": [
    "ライブラリーのインポート"
   ]
  },
  {
   "cell_type": "code",
   "execution_count": null,
   "metadata": {
    "colab": {},
    "colab_type": "code",
    "id": "qSVFii-UMfZi"
   },
   "outputs": [],
   "source": [
    "# -*- coding: utf-8 -*-\n",
    "import os\n",
    "import sys\n",
    "import face_recognition\n",
    "import cv2\n",
    "import numpy as np\n",
    "from PIL import ImageFont, ImageDraw, Image\n",
    "import glob"
   ]
  },
  {
   "cell_type": "markdown",
   "metadata": {
    "colab_type": "text",
    "id": "87FitJ6fwEYZ"
   },
   "source": [
    "設定ファイルの読み込み"
   ]
  },
  {
   "cell_type": "code",
   "execution_count": null,
   "metadata": {
    "colab": {},
    "colab_type": "code",
    "id": "KvVaP30Ev9Lg"
   },
   "outputs": [],
   "source": [
    "import config\n",
    "emp_info = config.emp_info\n",
    "threshold = config.threshold\n",
    "mode = config.mode"
   ]
  },
  {
   "cell_type": "markdown",
   "metadata": {
    "colab_type": "text",
    "id": "MS91DBBCl0mm"
   },
   "source": [
    "顔情報の初期化"
   ]
  },
  {
   "cell_type": "code",
   "execution_count": null,
   "metadata": {
    "colab": {},
    "colab_type": "code",
    "id": "4BsbB_c5lxim"
   },
   "outputs": [],
   "source": [
    "face_locations = []\n",
    "face_encodings = []"
   ]
  },
  {
   "cell_type": "markdown",
   "metadata": {
    "colab_type": "text",
    "id": "jPXT8UvuygPD"
   },
   "source": [
    "登録画像の読み込み"
   ]
  },
  {
   "cell_type": "code",
   "execution_count": null,
   "metadata": {
    "colab": {},
    "colab_type": "code",
    "id": "sRQIG0fkyIUo"
   },
   "outputs": [],
   "source": [
    "# image_jpフォルダーに認証したい顔画像及び認証時に表示させたい名前に変更する。\n",
    "# ※フォルダーに入ってる画像は架空の人物及び名前を使用しています。\n",
    "\n",
    "\n",
    "# image_paths = glob.glob('image/*')\n",
    "image_paths = glob.glob('image_jp/*')\n",
    "image_paths.sort()\n",
    "known_face_encodings = []\n",
    "known_face_names = []\n",
    "checked_face = []"
   ]
  },
  {
   "cell_type": "code",
   "execution_count": null,
   "metadata": {
    "colab": {},
    "colab_type": "code",
    "id": "4vQriwRbxTYS"
   },
   "outputs": [],
   "source": [
    "for image_path in image_paths:\n",
    "    im_name = os.path.basename(image_path).split('.')[0]\n",
    "    image = face_recognition.load_image_file(image_path)\n",
    "    face_encoding = face_recognition.face_encodings(image)[0]\n",
    "    known_face_encodings.append(face_encoding)\n",
    "    known_face_names.append(im_name)"
   ]
  },
  {
   "cell_type": "code",
   "execution_count": null,
   "metadata": {
    "colab": {},
    "colab_type": "code",
    "id": "L4eA3Z2kNF4w"
   },
   "outputs": [],
   "source": [
    "video_capture = cv2.VideoCapture(0)"
   ]
  },
  {
   "cell_type": "code",
   "execution_count": null,
   "metadata": {
    "colab": {},
    "colab_type": "code",
    "id": "8uT4VPWkNz_t"
   },
   "outputs": [],
   "source": [
    "def main(): \n",
    "\n",
    "\twhile True:\n",
    "\t\t# ビデオの単一フレームを取得\n",
    "\t\t_, frame = video_capture.read()\n",
    "\n",
    "\t\t# ビデオの現在のフレーム内のすべての顔に対してその位置情報を検索\n",
    "\t\tface_locations = face_recognition.face_locations(frame)\n",
    "\t\t# 顔の位置情報からエンコードを生成\n",
    "\t\tface_encodings = face_recognition.face_encodings(frame, face_locations)\n",
    "\n",
    "\t\tfor face_encoding in face_encodings:\n",
    "\t\t\t# 顔が登録済みの顔と一致するか確認\n",
    "\t\t\tmatches = face_recognition.compare_faces(known_face_encodings, face_encoding, threshold)\n",
    "\t\t\tname = \"Unknown\"\n",
    "\n",
    "\t\t\t# カメラ画像と最も近い登録画像を見つける\n",
    "\t\t\tface_distances = face_recognition.face_distance(known_face_encodings, face_encoding)\n",
    "\t\t\tbest_match_index = np.argmin(face_distances)\n",
    "\t\t\tif matches[best_match_index]:\n",
    "\t\t\t\tname = known_face_names[best_match_index]\n",
    "\n",
    "\t\t# 位置情報の表示\n",
    "\t\tfor (top, right, bottom, left) in face_locations:\n",
    "        \t# 顔領域に枠を描画\n",
    "\t\t\tcv2.rectangle(frame, (left, top), (right, bottom), (0, 0, 255), 2)\n",
    "\n",
    "\t\t\t# 枠の下に名前を表示\n",
    "\t\t\tcv2.rectangle(frame, (left, bottom - 35), (right, bottom), (0, 0, 255), cv2.FILLED)\n",
    "\t\t\t# font = cv2.FONT_HERSHEY_DUPLEX\n",
    "\t\t\t# cv2.putText(frame, name, (left + 6, bottom - 6), font, 1.0, (255, 255, 255), 1)\n",
    "   \n",
    "\t\t\t# 日本語表示部分\n",
    "\t\t\tfontpath ='meiryo.ttc'\n",
    "\t\t\tfont = ImageFont.truetype(fontpath, 32) # フォントサイズ32pt\n",
    "\t\t\timg_pil = Image.fromarray(frame) # 配列の各値を8bit(1byte)整数型(0～255)をPIL Imageに変換。\n",
    "\t\t\tdraw = ImageDraw.Draw(img_pil) # drawインスタンスを生成\n",
    "\t\t\tposition = (left + 6, bottom - 40) # テキスト表示位置\n",
    "\t\t\tdraw.text(position, name, font = font , fill = (255, 255, 255, 0) ) # drawにテキストを記載 fill:色 B,G,R,Alpha設定は反映されない\n",
    "\t\t\tframe = np.array(img_pil) # PIL を配列に変換\n",
    "\n",
    "\t\t\t# 本人確認\n",
    "\t\t\tif mode == 1 and name != \"Unknown\":\n",
    "\t\t\t\tcheck_password(name)\n",
    "\n",
    "\t\t# 結果をビデオに表示\n",
    "\t\tcv2.imshow('Video', frame)\n",
    "\n",
    "\t\t# ESCキーで終了\n",
    "\t\tif cv2.waitKey(1) == 27:\n",
    "\t\t\tbreak"
   ]
  },
  {
   "cell_type": "code",
   "execution_count": null,
   "metadata": {
    "colab": {},
    "colab_type": "code",
    "id": "l1g-iWuV3QnV"
   },
   "outputs": [],
   "source": [
    "def check_password(name):\n",
    "    if name in checked_face:\n",
    "        return\n",
    "\n",
    "    emp_id = input (name + \"さんの社員番号を入力してください。\")\n",
    "    \n",
    "    if emp_info[name] == emp_id:\n",
    "        print(\"出勤しました\")\n",
    "        checked_face.append(name)\n",
    "    else:\n",
    "        print(\"社員番号が不正です\")\n",
    "        name = \"\""
   ]
  },
  {
   "cell_type": "code",
   "execution_count": null,
   "metadata": {
    "colab": {},
    "colab_type": "code",
    "id": "Ukql7zUzN21c"
   },
   "outputs": [],
   "source": [
    "main()"
   ]
  },
  {
   "cell_type": "code",
   "execution_count": null,
   "metadata": {
    "colab": {},
    "colab_type": "code",
    "id": "Yf1dwEeDN4QD"
   },
   "outputs": [],
   "source": [
    "# ウェブカメラへの操作を開放\n",
    "video_capture.release()\n",
    "cv2.destroyAllWindows()"
   ]
  }
 ],
 "metadata": {
  "accelerator": "GPU",
  "colab": {
   "collapsed_sections": [],
   "name": "05承認モードの追加",
   "provenance": []
  },
  "kernelspec": {
   "display_name": "Python 3",
   "language": "python",
   "name": "python3"
  },
  "language_info": {
   "codemirror_mode": {
    "name": "ipython",
    "version": 3
   },
   "file_extension": ".py",
   "mimetype": "text/x-python",
   "name": "python",
   "nbconvert_exporter": "python",
   "pygments_lexer": "ipython3",
   "version": "3.8.7"
  }
 },
 "nbformat": 4,
 "nbformat_minor": 4
}